{
 "cells": [
  {
   "cell_type": "code",
   "execution_count": 9,
   "id": "da3f4e8c",
   "metadata": {},
   "outputs": [
    {
     "name": "stderr",
     "output_type": "stream",
     "text": [
      "100%|██████████| 30/30 [00:00<00:00, 331.16it/s]<00:00, 41.35it/s, Describe variable: Response_Quality]    \n",
      "Summarize dataset: 100%|██████████| 235/235 [00:14<00:00, 16.63it/s, Completed]                                         \n",
      "Generate report structure: 100%|██████████| 1/1 [00:04<00:00,  4.36s/it]\n",
      "Render HTML: 100%|██████████| 1/1 [00:02<00:00,  2.61s/it]\n",
      "Export report to file: 100%|██████████| 1/1 [00:00<00:00, 50.69it/s]"
     ]
    },
    {
     "name": "stdout",
     "output_type": "stream",
     "text": [
      "Profiling report generated successfully.\n"
     ]
    },
    {
     "name": "stderr",
     "output_type": "stream",
     "text": [
      "\n"
     ]
    }
   ],
   "source": [
    "import pandas as pd\n",
    "import ydata_profiling as pp\n",
    "\n",
    "df = pd.read_csv(\"hf://datasets/nprak26/remote-worker-productivity/remote_work_productivity.csv\")\n",
    "\n",
    "pp.ProfileReport(df, title=\"Remote Worker Productivity\").to_file(\"remote-worker-productivity.html\")\n",
    "print(\"Profiling report generated successfully.\")"
   ]
  },
  {
   "cell_type": "markdown",
   "id": "4124605e",
   "metadata": {},
   "source": [
    "## Comentarios ##\n",
    "\n",
    "No hay datos faltantes, esta bastante limpio el .csv, por la parte de las correlaciones no estan muy altas, estan dentro de lo esperado, las que tienen una correlación bastante alta estan relacionas a la completación de metas laborales, eficiencia, etc,la otra alta es en base a la edad y la experiencia laboral"
   ]
  }
 ],
 "metadata": {
  "kernelspec": {
   "display_name": "env",
   "language": "python",
   "name": "python3"
  },
  "language_info": {
   "codemirror_mode": {
    "name": "ipython",
    "version": 3
   },
   "file_extension": ".py",
   "mimetype": "text/x-python",
   "name": "python",
   "nbconvert_exporter": "python",
   "pygments_lexer": "ipython3",
   "version": "3.12.3"
  }
 },
 "nbformat": 4,
 "nbformat_minor": 5
}
